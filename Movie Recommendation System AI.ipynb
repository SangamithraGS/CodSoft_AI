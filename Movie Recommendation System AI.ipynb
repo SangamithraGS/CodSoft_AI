{
 "cells": [
  {
   "cell_type": "code",
   "execution_count": 1,
   "id": "f50251b2",
   "metadata": {},
   "outputs": [
    {
     "name": "stdout",
     "output_type": "stream",
     "text": [
      "Enter the name of the user: Akshay\n",
      "Recommended movies for Akshay: ['Oppenheimer', 'Killers of the Flower Moon', 'Leave the World Behind']\n",
      "Do you want to recommend a movie for another user? (yes/no): yes\n",
      "Enter the name of the user: Shalini\n",
      "Recommended movies for Shalini: ['The Equalizer', 'Mission: Impossible', 'The Dark Knight', 'Mad Max: Fury Road']\n",
      "Do you want to recommend a movie for another user? (yes/no): no\n"
     ]
    }
   ],
   "source": [
    "# Sample data of users and their movie preferences\n",
    "user_data = {\n",
    "    \"Ashwin\": {\"genres\": {\"Action\": 5, \"Comedy\": 3, \"Drama\": 2}},\n",
    "    \"Akshay\": {\"genres\": {\"Action\": 2, \"Comedy\": 4, \"Drama\": 5}},\n",
    "    \"Roshan\": {\"genres\": {\"Action\": 3, \"Comedy\": 2, \"Drama\": 4}},\n",
    "    \"Sharvesh\": {\"genres\": {\"Action\": 4, \"Comedy\": 3, \"Drama\": 1}},\n",
    "    \"Vishal\": {\"genres\": {\"Action\": 1, \"Comedy\": 5, \"Drama\": 4}},\n",
    "    \"Sahana\": {\"genres\": {\"Action\": 2, \"Comedy\": 1, \"Drama\": 5}},\n",
    "    \"Nila\": {\"genres\": {\"Action\": 3, \"Comedy\": 4, \"Drama\": 2}},\n",
    "    \"Shalini\": {\"genres\": {\"Action\": 5, \"Comedy\": 2, \"Drama\": 3}},\n",
    "    \"Veronica\": {\"genres\": {\"Action\": 4, \"Comedy\": 3, \"Drama\": 2}},\n",
    "    \"Mythili\": {\"genres\": {\"Action\": 2, \"Comedy\": 5, \"Drama\": 4}}\n",
    "}\n",
    "\n",
    "# Function to recommend a movie based on user preferences\n",
    "def recommend_movie(user_name, user_data):\n",
    "    if user_name not in user_data:\n",
    "        return \"User not found\"\n",
    "\n",
    "    # Find the most watched genre for the user\n",
    "    max_genre = max(user_data[user_name][\"genres\"], key=user_data[user_name][\"genres\"].get)\n",
    "\n",
    "    # Dummy movie database with genres\n",
    "    movie_database = {\n",
    "        \"The Equalizer\": {\"genre\": \"Action\"},\n",
    "        \"The Holdovers\": {\"genre\": \"Comedy\"},\n",
    "        \"Oppenheimer\": {\"genre\": \"Drama\"},\n",
    "        \"Mission: Impossible\": {\"genre\": \"Action\"},\n",
    "        \"Ghostbusters: Frozen Empire\": {\"genre\": \"Comedy\"},\n",
    "        \"Killers of the Flower Moon\": {\"genre\": \"Drama\"},\n",
    "        \"The Dark Knight\": {\"genre\": \"Action\"},\n",
    "        \"Orion and the Dark\": {\"genre\": \"Comedy\"},\n",
    "        \"Leave the World Behind\": {\"genre\": \"Drama\"},\n",
    "        \"Mad Max: Fury Road\": {\"genre\": \"Action\"},\n",
    "    }\n",
    "\n",
    "    # Recommend a movie from the most watched genre\n",
    "    recommended_movies = [movie for movie, info in movie_database.items() if info[\"genre\"] == max_genre]\n",
    "\n",
    "    return recommended_movies\n",
    "\n",
    "# Test the recommendation system\n",
    "while True:\n",
    "    user_name = input(\"Enter the name of the user: \")\n",
    "    recommended_movies = recommend_movie(user_name, user_data)\n",
    "    if recommended_movies:\n",
    "        print(f\"Recommended movies for {user_name}: {recommended_movies}\")\n",
    "    else:\n",
    "        print(\"User not found\")\n",
    "    \n",
    "    another_user = input(\"Do you want to recommend a movie for another user? (yes/no): \")\n",
    "    if another_user.lower() != \"yes\":\n",
    "        break\n"
   ]
  },
  {
   "cell_type": "code",
   "execution_count": null,
   "id": "c37010c3",
   "metadata": {},
   "outputs": [],
   "source": []
  }
 ],
 "metadata": {
  "kernelspec": {
   "display_name": "Python 3 (ipykernel)",
   "language": "python",
   "name": "python3"
  },
  "language_info": {
   "codemirror_mode": {
    "name": "ipython",
    "version": 3
   },
   "file_extension": ".py",
   "mimetype": "text/x-python",
   "name": "python",
   "nbconvert_exporter": "python",
   "pygments_lexer": "ipython3",
   "version": "3.10.9"
  }
 },
 "nbformat": 4,
 "nbformat_minor": 5
}
