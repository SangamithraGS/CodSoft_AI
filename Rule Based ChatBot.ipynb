{
 "cells": [
  {
   "cell_type": "code",
   "execution_count": null,
   "id": "3e924d60",
   "metadata": {},
   "outputs": [],
   "source": [
    "import random\n",
    "\n",
    "# Define responses based on user inputs\n",
    "responses = {\n",
    "    \"hello\": [\"Hello!\", \"Hi there!\", \"Hey!\"],\n",
    "    \"how are you\": [\"I'm doing well, thank you!\", \"I'm great, thanks for asking!\", \"I'm fine, how about you?\"],\n",
    "    \"what's your name\": [\"My name is Siren.\", \"I'm Siren.\", \"You can call me Siren.\"],\n",
    "    \"who created you\": [\"I was created by an AI engineer.\", \"My creator is a human developer.\", \"A programmer built me.\"],\n",
    "    \"what can you do\": [\"I can answer your questions.\", \"I'm here to chat with you.\", \"Feel free to ask me anything!\"],\n",
    "    \"tell me a joke\": [\"Why don't scientists trust atoms? Because they make up everything!\", \"What do you get when you cross a snowman and a vampire? Frostbite!\"],\n",
    "    \"goodbye\": [\"Goodbye!\", \"Bye!\", \"See you later!\"],\n",
    "    \"thank you\": [\"You're welcome!\", \"No problem!\", \"Anytime!\"],\n",
    "    \"how old are you\": [\"I'm just a chatbot, I don't have an age.\", \"I don't age, I'm a digital entity.\", \"I exist outside the concept of time.\"],\n",
    "    \"where are you from\": [\"I exist in the digital realm.\", \"I'm from the world of programming.\", \"I don't have a physical location.\"],\n",
    "    \"do you have siblings\": [\"As a chatbot, I don't have siblings.\", \"I'm the only one of my kind.\", \"I don't have family in the traditional sense.\"],\n",
    "    \"what's the weather like\": [\"I'm sorry, I can't provide real-time weather information.\", \"You can check the weather forecast online or on your phone.\"],\n",
    "    \"tell me a fun fact\": [\"The Eiffel Tower can be 15 cm taller during the summer due to thermal expansion of the iron.\", \"Bananas are berries, but strawberries are not.\"],\n",
    "    \"do you like music\": [\"As a chatbot, I don't have preferences like humans do.\", \"I can't listen to music, but I can help you find some recommendations!\"],\n",
    "    \"what is the meaning of life\": [\"The meaning of life is subjective and varies from person to person.\", \"That's a profound question! The answer may differ based on individual beliefs.\"],\n",
    "    \"how can I learn programming\": [\"There are many online resources and courses available to learn programming.\", \"Start by choosing a programming language and finding beginner-friendly tutorials.\"],\n",
    "}\n",
    "\n",
    "# Function to generate responses\n",
    "def get_response(message):\n",
    "    # Convert message to lowercase for case-insensitive matching\n",
    "    message = message.lower()\n",
    "    for key in responses:\n",
    "        if key in message:\n",
    "            return random.choice(responses[key])\n",
    "    return \"I'm sorry, I didn't understand that.\"\n",
    "\n",
    "# Main function to interact with the user\n",
    "def main():\n",
    "    print(\"Siren: Hello! I'm Siren, your friendly chatbot. How can I help you today?\")\n",
    "    while True:\n",
    "        user_input = input(\"You: \")\n",
    "        if user_input.lower() == 'exit':\n",
    "            print(\"Siren: Goodbye!\")\n",
    "            break\n",
    "        response = get_response(user_input)\n",
    "        print(\"Siren:\", response)\n",
    "\n",
    "# Run the chatbot\n",
    "if __name__ == \"__main__\":\n",
    "    main()"
   ]
  }
 ],
 "metadata": {
  "kernelspec": {
   "display_name": "Python 3 (ipykernel)",
   "language": "python",
   "name": "python3"
  },
  "language_info": {
   "codemirror_mode": {
    "name": "ipython",
    "version": 3
   },
   "file_extension": ".py",
   "mimetype": "text/x-python",
   "name": "python",
   "nbconvert_exporter": "python",
   "pygments_lexer": "ipython3",
   "version": "3.10.9"
  }
 },
 "nbformat": 4,
 "nbformat_minor": 5
}
